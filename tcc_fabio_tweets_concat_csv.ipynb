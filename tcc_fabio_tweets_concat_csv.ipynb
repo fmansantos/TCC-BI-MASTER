{
  "cells": [
    {
      "cell_type": "markdown",
      "source": [
        "# Trabalho de Conclusão de Curso - Projeto Final\n",
        "\n",
        "# BI MASTER - BUSINESS INTELLIGENCE MASTER - \n",
        "# SISTEMAS INTELIGENTES DE APOIO À DECISÃO EM NEGÓCIOS \n",
        "\n",
        "## Aluno: Fábio Mendonça dos Santos\n",
        "\n",
        "## Matricula: 201.190.260 \n",
        "\n",
        "## Orientador : Professor Leonardo Alfredo Forero Mendonza"
      ],
      "metadata": {
        "id": "Gt1HrGGfQNnV"
      },
      "id": "Gt1HrGGfQNnV"
    },
    {
      "cell_type": "markdown",
      "source": [
        "# Descrição do NoteBook"
      ],
      "metadata": {
        "id": "mouic7AAaDKW"
      },
      "id": "mouic7AAaDKW"
    },
    {
      "cell_type": "markdown",
      "source": [
        "Este notebook concatena os arquivos *.csv, com os tweets extraídos \n",
        "\n",
        "pelo notebook tcc_fabio_tweets_filter_retweets.ipynb em um único arquivo *.csv.\n",
        "\n",
        "O total de registros extraídos foi de 210.303 \n",
        "\n",
        "O arquivo gerado após a concatenação é o tweets_csv_projeto.csv\n",
        "\n",
        "O Código foi feito utilizando o notebook do site : \n",
        "\n",
        "https://www.codegrepper.com/code-examples/python/pandas+read+multiple+csv+to+multiple+dataframes\n",
        "\n",
        "As referência sobre a biblioteca glob podem ser encontradas no site:\n",
        "\n",
        "https://www.geeksforgeeks.org/how-to-use-glob-function-to-find-files-recursively-in-python/"
      ],
      "metadata": {
        "id": "KSJD1e_sXZoy"
      },
      "id": "KSJD1e_sXZoy"
    },
    {
      "cell_type": "code",
      "execution_count": null,
      "id": "3654843d",
      "metadata": {
        "colab": {
          "base_uri": "https://localhost:8080/"
        },
        "id": "3654843d",
        "outputId": "8b37976a-221e-4f08-f818-46b992feb04e"
      },
      "outputs": [
        {
          "output_type": "stream",
          "name": "stdout",
          "text": [
            "Mounted at /content/drive\n"
          ]
        },
        {
          "output_type": "execute_result",
          "data": {
            "text/plain": [
              "['tweets_csv_20122021.csv',\n",
              " 'tweets_csv_02112021.csv',\n",
              " 'tweets_csv_03112021_2.csv',\n",
              " 'tweets_csv_03112021_3.csv',\n",
              " 'tweets_csv_03112021.csv',\n",
              " 'tweets_csv_04112021_2.csv',\n",
              " 'tweets_csv_04112021_3.csv',\n",
              " 'tweets_csv_04112021.csv',\n",
              " 'tweets_csv_05112021_1.csv',\n",
              " 'tweets_csv_05112021_2.csv',\n",
              " 'tweets_csv_05112021_3.csv',\n",
              " 'tweets_csv_05112021_4.csv',\n",
              " 'tweets_csv_06122021.csv',\n",
              " 'tweets_csv_08112021.csv',\n",
              " 'tweets_csv_09112021.csv',\n",
              " 'tweets_csv_10112021.csv',\n",
              " 'tweets_csv_29102021.csv',\n",
              " 'tweets_csv_21122021.csv',\n",
              " 'tweets_csv_22122021.csv',\n",
              " 'tweets_csv_23122021.csv']"
            ]
          },
          "metadata": {},
          "execution_count": 1
        }
      ],
      "source": [
        "import pandas as pd\n",
        "import glob ## biblioteca para recuperar os arquivos *.csv\n",
        "import warnings\n",
        "import os\n",
        "warnings.filterwarnings(\"ignore\")\n",
        "\n",
        "from google.colab import drive\n",
        "drive.mount('/content/drive')\n",
        "\n",
        "\n",
        "### Lista tddos arquivos *.csv com os tweets \n",
        "os.listdir(\"/content/drive/MyDrive/datasets\")"
      ]
    },
    {
      "cell_type": "markdown",
      "source": [
        "# Lê todos os arquivos *.csv na pasta especificada e concatena em um único arquivo"
      ],
      "metadata": {
        "id": "aQBGvW0iYlv5"
      },
      "id": "aQBGvW0iYlv5"
    },
    {
      "cell_type": "code",
      "source": [
        "path = r'/content/drive/MyDrive/datasets/' # pasta com os arquivos *.csv extraidos\n",
        "\n",
        "\n",
        "all_files = glob.glob(path + \"/*.csv\")   # recupera os arquivos *.csv que estão na pasta\n",
        "\n",
        "li = []\n",
        "\n",
        "for filename in all_files:\n",
        "    df = pd.read_csv(filename, index_col=None, header=0, engine='python',sep=';')\n",
        "    li.append(df)\n",
        "\n",
        "tweets = pd.concat(li, axis=0, ignore_index=True)\n",
        "tweets.head()"
      ],
      "metadata": {
        "colab": {
          "base_uri": "https://localhost:8080/",
          "height": 206
        },
        "id": "gm_QG-64vVoK",
        "outputId": "9964af25-0105-4ca9-8473-8016dbca87a7"
      },
      "id": "gm_QG-64vVoK",
      "execution_count": null,
      "outputs": [
        {
          "output_type": "execute_result",
          "data": {
            "text/html": [
              "\n",
              "  <div id=\"df-32db4ac4-5ee5-4aea-aa4d-61b4c45afb13\">\n",
              "    <div class=\"colab-df-container\">\n",
              "      <div>\n",
              "<style scoped>\n",
              "    .dataframe tbody tr th:only-of-type {\n",
              "        vertical-align: middle;\n",
              "    }\n",
              "\n",
              "    .dataframe tbody tr th {\n",
              "        vertical-align: top;\n",
              "    }\n",
              "\n",
              "    .dataframe thead th {\n",
              "        text-align: right;\n",
              "    }\n",
              "</style>\n",
              "<table border=\"1\" class=\"dataframe\">\n",
              "  <thead>\n",
              "    <tr style=\"text-align: right;\">\n",
              "      <th></th>\n",
              "      <th>created_date</th>\n",
              "      <th>tweet</th>\n",
              "      <th>username</th>\n",
              "      <th>retweet</th>\n",
              "      <th>nlikes</th>\n",
              "      <th>nreplies</th>\n",
              "      <th>nretweets</th>\n",
              "      <th>near</th>\n",
              "    </tr>\n",
              "  </thead>\n",
              "  <tbody>\n",
              "    <tr>\n",
              "      <th>0</th>\n",
              "      <td>2021-12-20 18:54:55</td>\n",
              "      <td>Of course there would be a Cracker Barrel in S...</td>\n",
              "      <td>diegornelas</td>\n",
              "      <td>False</td>\n",
              "      <td>0</td>\n",
              "      <td>NaN</td>\n",
              "      <td>0</td>\n",
              "      <td>Bonita, CA</td>\n",
              "    </tr>\n",
              "    <tr>\n",
              "      <th>1</th>\n",
              "      <td>2021-12-20 18:54:54</td>\n",
              "      <td>This book should be an interesting read. https...</td>\n",
              "      <td>fmworsley</td>\n",
              "      <td>False</td>\n",
              "      <td>0</td>\n",
              "      <td>NaN</td>\n",
              "      <td>0</td>\n",
              "      <td>Houston, TX</td>\n",
              "    </tr>\n",
              "    <tr>\n",
              "      <th>2</th>\n",
              "      <td>2021-12-20 18:54:54</td>\n",
              "      <td>Plan 9 Crunch: All About Cult Films: Criswell:...</td>\n",
              "      <td>PoliticalSurf</td>\n",
              "      <td>False</td>\n",
              "      <td>0</td>\n",
              "      <td>NaN</td>\n",
              "      <td>0</td>\n",
              "      <td>Utah</td>\n",
              "    </tr>\n",
              "    <tr>\n",
              "      <th>3</th>\n",
              "      <td>2021-12-20 18:54:54</td>\n",
              "      <td>@jonbonjovi @BonJovi \\nRemember 10 years ago w...</td>\n",
              "      <td>kchassiephoto</td>\n",
              "      <td>False</td>\n",
              "      <td>0</td>\n",
              "      <td>NaN</td>\n",
              "      <td>0</td>\n",
              "      <td>Dallas, TX</td>\n",
              "    </tr>\n",
              "    <tr>\n",
              "      <th>4</th>\n",
              "      <td>2021-12-20 18:54:54</td>\n",
              "      <td>It’s soooooo yachty… https://t.co/S4bBEiPvnR</td>\n",
              "      <td>YachtRockShow</td>\n",
              "      <td>False</td>\n",
              "      <td>0</td>\n",
              "      <td>NaN</td>\n",
              "      <td>0</td>\n",
              "      <td>YachtRockShow@gmail.com</td>\n",
              "    </tr>\n",
              "  </tbody>\n",
              "</table>\n",
              "</div>\n",
              "      <button class=\"colab-df-convert\" onclick=\"convertToInteractive('df-32db4ac4-5ee5-4aea-aa4d-61b4c45afb13')\"\n",
              "              title=\"Convert this dataframe to an interactive table.\"\n",
              "              style=\"display:none;\">\n",
              "        \n",
              "  <svg xmlns=\"http://www.w3.org/2000/svg\" height=\"24px\"viewBox=\"0 0 24 24\"\n",
              "       width=\"24px\">\n",
              "    <path d=\"M0 0h24v24H0V0z\" fill=\"none\"/>\n",
              "    <path d=\"M18.56 5.44l.94 2.06.94-2.06 2.06-.94-2.06-.94-.94-2.06-.94 2.06-2.06.94zm-11 1L8.5 8.5l.94-2.06 2.06-.94-2.06-.94L8.5 2.5l-.94 2.06-2.06.94zm10 10l.94 2.06.94-2.06 2.06-.94-2.06-.94-.94-2.06-.94 2.06-2.06.94z\"/><path d=\"M17.41 7.96l-1.37-1.37c-.4-.4-.92-.59-1.43-.59-.52 0-1.04.2-1.43.59L10.3 9.45l-7.72 7.72c-.78.78-.78 2.05 0 2.83L4 21.41c.39.39.9.59 1.41.59.51 0 1.02-.2 1.41-.59l7.78-7.78 2.81-2.81c.8-.78.8-2.07 0-2.86zM5.41 20L4 18.59l7.72-7.72 1.47 1.35L5.41 20z\"/>\n",
              "  </svg>\n",
              "      </button>\n",
              "      \n",
              "  <style>\n",
              "    .colab-df-container {\n",
              "      display:flex;\n",
              "      flex-wrap:wrap;\n",
              "      gap: 12px;\n",
              "    }\n",
              "\n",
              "    .colab-df-convert {\n",
              "      background-color: #E8F0FE;\n",
              "      border: none;\n",
              "      border-radius: 50%;\n",
              "      cursor: pointer;\n",
              "      display: none;\n",
              "      fill: #1967D2;\n",
              "      height: 32px;\n",
              "      padding: 0 0 0 0;\n",
              "      width: 32px;\n",
              "    }\n",
              "\n",
              "    .colab-df-convert:hover {\n",
              "      background-color: #E2EBFA;\n",
              "      box-shadow: 0px 1px 2px rgba(60, 64, 67, 0.3), 0px 1px 3px 1px rgba(60, 64, 67, 0.15);\n",
              "      fill: #174EA6;\n",
              "    }\n",
              "\n",
              "    [theme=dark] .colab-df-convert {\n",
              "      background-color: #3B4455;\n",
              "      fill: #D2E3FC;\n",
              "    }\n",
              "\n",
              "    [theme=dark] .colab-df-convert:hover {\n",
              "      background-color: #434B5C;\n",
              "      box-shadow: 0px 1px 3px 1px rgba(0, 0, 0, 0.15);\n",
              "      filter: drop-shadow(0px 1px 2px rgba(0, 0, 0, 0.3));\n",
              "      fill: #FFFFFF;\n",
              "    }\n",
              "  </style>\n",
              "\n",
              "      <script>\n",
              "        const buttonEl =\n",
              "          document.querySelector('#df-32db4ac4-5ee5-4aea-aa4d-61b4c45afb13 button.colab-df-convert');\n",
              "        buttonEl.style.display =\n",
              "          google.colab.kernel.accessAllowed ? 'block' : 'none';\n",
              "\n",
              "        async function convertToInteractive(key) {\n",
              "          const element = document.querySelector('#df-32db4ac4-5ee5-4aea-aa4d-61b4c45afb13');\n",
              "          const dataTable =\n",
              "            await google.colab.kernel.invokeFunction('convertToInteractive',\n",
              "                                                     [key], {});\n",
              "          if (!dataTable) return;\n",
              "\n",
              "          const docLinkHtml = 'Like what you see? Visit the ' +\n",
              "            '<a target=\"_blank\" href=https://colab.research.google.com/notebooks/data_table.ipynb>data table notebook</a>'\n",
              "            + ' to learn more about interactive tables.';\n",
              "          element.innerHTML = '';\n",
              "          dataTable['output_type'] = 'display_data';\n",
              "          await google.colab.output.renderOutput(dataTable, element);\n",
              "          const docLink = document.createElement('div');\n",
              "          docLink.innerHTML = docLinkHtml;\n",
              "          element.appendChild(docLink);\n",
              "        }\n",
              "      </script>\n",
              "    </div>\n",
              "  </div>\n",
              "  "
            ],
            "text/plain": [
              "          created_date  ...                     near\n",
              "0  2021-12-20 18:54:55  ...               Bonita, CA\n",
              "1  2021-12-20 18:54:54  ...              Houston, TX\n",
              "2  2021-12-20 18:54:54  ...                     Utah\n",
              "3  2021-12-20 18:54:54  ...               Dallas, TX\n",
              "4  2021-12-20 18:54:54  ...  YachtRockShow@gmail.com\n",
              "\n",
              "[5 rows x 8 columns]"
            ]
          },
          "metadata": {},
          "execution_count": 2
        }
      ]
    },
    {
      "cell_type": "code",
      "execution_count": null,
      "id": "17efef91",
      "metadata": {
        "id": "17efef91",
        "outputId": "6544a7e9-2897-408d-81c3-a74fb582dc20",
        "colab": {
          "base_uri": "https://localhost:8080/",
          "height": 206
        }
      },
      "outputs": [
        {
          "output_type": "execute_result",
          "data": {
            "text/html": [
              "\n",
              "  <div id=\"df-016df30f-2133-4d45-884c-56a3d54d3a70\">\n",
              "    <div class=\"colab-df-container\">\n",
              "      <div>\n",
              "<style scoped>\n",
              "    .dataframe tbody tr th:only-of-type {\n",
              "        vertical-align: middle;\n",
              "    }\n",
              "\n",
              "    .dataframe tbody tr th {\n",
              "        vertical-align: top;\n",
              "    }\n",
              "\n",
              "    .dataframe thead th {\n",
              "        text-align: right;\n",
              "    }\n",
              "</style>\n",
              "<table border=\"1\" class=\"dataframe\">\n",
              "  <thead>\n",
              "    <tr style=\"text-align: right;\">\n",
              "      <th></th>\n",
              "      <th>created_date</th>\n",
              "      <th>tweet</th>\n",
              "      <th>username</th>\n",
              "      <th>retweet</th>\n",
              "      <th>nlikes</th>\n",
              "      <th>nreplies</th>\n",
              "      <th>nretweets</th>\n",
              "      <th>near</th>\n",
              "    </tr>\n",
              "  </thead>\n",
              "  <tbody>\n",
              "    <tr>\n",
              "      <th>210298</th>\n",
              "      <td>2021-12-23 08:19:16</td>\n",
              "      <td>Of course I get a flat 🥲</td>\n",
              "      <td>dnceao</td>\n",
              "      <td>False</td>\n",
              "      <td>0</td>\n",
              "      <td>NaN</td>\n",
              "      <td>0</td>\n",
              "      <td>Long Beach, CA</td>\n",
              "    </tr>\n",
              "    <tr>\n",
              "      <th>210299</th>\n",
              "      <td>2021-12-23 08:19:15</td>\n",
              "      <td>Went to bed 3 hrs ago. Still not asleep. 🤦‍♀️</td>\n",
              "      <td>rebelliousjess</td>\n",
              "      <td>False</td>\n",
              "      <td>3</td>\n",
              "      <td>NaN</td>\n",
              "      <td>0</td>\n",
              "      <td>Texas, USA</td>\n",
              "    </tr>\n",
              "    <tr>\n",
              "      <th>210300</th>\n",
              "      <td>2021-12-23 08:19:14</td>\n",
              "      <td>@YaOnlyLivvOnce Nice</td>\n",
              "      <td>briggs_charles</td>\n",
              "      <td>False</td>\n",
              "      <td>0</td>\n",
              "      <td>1.473704e+18</td>\n",
              "      <td>0</td>\n",
              "      <td>North Gates, NY</td>\n",
              "    </tr>\n",
              "    <tr>\n",
              "      <th>210301</th>\n",
              "      <td>2021-12-23 08:19:14</td>\n",
              "      <td>@ivoted4djt @fox13seattle Nobody cares about S...</td>\n",
              "      <td>UMADBRO2587</td>\n",
              "      <td>False</td>\n",
              "      <td>1</td>\n",
              "      <td>1.473931e+18</td>\n",
              "      <td>0</td>\n",
              "      <td>My 🏠</td>\n",
              "    </tr>\n",
              "    <tr>\n",
              "      <th>210302</th>\n",
              "      <td>2021-12-23 08:19:12</td>\n",
              "      <td>@reallysadcow That’s fair. I’ve never lived cl...</td>\n",
              "      <td>torihatesbacon</td>\n",
              "      <td>False</td>\n",
              "      <td>0</td>\n",
              "      <td>1.473931e+18</td>\n",
              "      <td>0</td>\n",
              "      <td>Statesville, NC</td>\n",
              "    </tr>\n",
              "  </tbody>\n",
              "</table>\n",
              "</div>\n",
              "      <button class=\"colab-df-convert\" onclick=\"convertToInteractive('df-016df30f-2133-4d45-884c-56a3d54d3a70')\"\n",
              "              title=\"Convert this dataframe to an interactive table.\"\n",
              "              style=\"display:none;\">\n",
              "        \n",
              "  <svg xmlns=\"http://www.w3.org/2000/svg\" height=\"24px\"viewBox=\"0 0 24 24\"\n",
              "       width=\"24px\">\n",
              "    <path d=\"M0 0h24v24H0V0z\" fill=\"none\"/>\n",
              "    <path d=\"M18.56 5.44l.94 2.06.94-2.06 2.06-.94-2.06-.94-.94-2.06-.94 2.06-2.06.94zm-11 1L8.5 8.5l.94-2.06 2.06-.94-2.06-.94L8.5 2.5l-.94 2.06-2.06.94zm10 10l.94 2.06.94-2.06 2.06-.94-2.06-.94-.94-2.06-.94 2.06-2.06.94z\"/><path d=\"M17.41 7.96l-1.37-1.37c-.4-.4-.92-.59-1.43-.59-.52 0-1.04.2-1.43.59L10.3 9.45l-7.72 7.72c-.78.78-.78 2.05 0 2.83L4 21.41c.39.39.9.59 1.41.59.51 0 1.02-.2 1.41-.59l7.78-7.78 2.81-2.81c.8-.78.8-2.07 0-2.86zM5.41 20L4 18.59l7.72-7.72 1.47 1.35L5.41 20z\"/>\n",
              "  </svg>\n",
              "      </button>\n",
              "      \n",
              "  <style>\n",
              "    .colab-df-container {\n",
              "      display:flex;\n",
              "      flex-wrap:wrap;\n",
              "      gap: 12px;\n",
              "    }\n",
              "\n",
              "    .colab-df-convert {\n",
              "      background-color: #E8F0FE;\n",
              "      border: none;\n",
              "      border-radius: 50%;\n",
              "      cursor: pointer;\n",
              "      display: none;\n",
              "      fill: #1967D2;\n",
              "      height: 32px;\n",
              "      padding: 0 0 0 0;\n",
              "      width: 32px;\n",
              "    }\n",
              "\n",
              "    .colab-df-convert:hover {\n",
              "      background-color: #E2EBFA;\n",
              "      box-shadow: 0px 1px 2px rgba(60, 64, 67, 0.3), 0px 1px 3px 1px rgba(60, 64, 67, 0.15);\n",
              "      fill: #174EA6;\n",
              "    }\n",
              "\n",
              "    [theme=dark] .colab-df-convert {\n",
              "      background-color: #3B4455;\n",
              "      fill: #D2E3FC;\n",
              "    }\n",
              "\n",
              "    [theme=dark] .colab-df-convert:hover {\n",
              "      background-color: #434B5C;\n",
              "      box-shadow: 0px 1px 3px 1px rgba(0, 0, 0, 0.15);\n",
              "      filter: drop-shadow(0px 1px 2px rgba(0, 0, 0, 0.3));\n",
              "      fill: #FFFFFF;\n",
              "    }\n",
              "  </style>\n",
              "\n",
              "      <script>\n",
              "        const buttonEl =\n",
              "          document.querySelector('#df-016df30f-2133-4d45-884c-56a3d54d3a70 button.colab-df-convert');\n",
              "        buttonEl.style.display =\n",
              "          google.colab.kernel.accessAllowed ? 'block' : 'none';\n",
              "\n",
              "        async function convertToInteractive(key) {\n",
              "          const element = document.querySelector('#df-016df30f-2133-4d45-884c-56a3d54d3a70');\n",
              "          const dataTable =\n",
              "            await google.colab.kernel.invokeFunction('convertToInteractive',\n",
              "                                                     [key], {});\n",
              "          if (!dataTable) return;\n",
              "\n",
              "          const docLinkHtml = 'Like what you see? Visit the ' +\n",
              "            '<a target=\"_blank\" href=https://colab.research.google.com/notebooks/data_table.ipynb>data table notebook</a>'\n",
              "            + ' to learn more about interactive tables.';\n",
              "          element.innerHTML = '';\n",
              "          dataTable['output_type'] = 'display_data';\n",
              "          await google.colab.output.renderOutput(dataTable, element);\n",
              "          const docLink = document.createElement('div');\n",
              "          docLink.innerHTML = docLinkHtml;\n",
              "          element.appendChild(docLink);\n",
              "        }\n",
              "      </script>\n",
              "    </div>\n",
              "  </div>\n",
              "  "
            ],
            "text/plain": [
              "               created_date  ...             near\n",
              "210298  2021-12-23 08:19:16  ...   Long Beach, CA\n",
              "210299  2021-12-23 08:19:15  ...       Texas, USA\n",
              "210300  2021-12-23 08:19:14  ...  North Gates, NY\n",
              "210301  2021-12-23 08:19:14  ...             My 🏠\n",
              "210302  2021-12-23 08:19:12  ...  Statesville, NC\n",
              "\n",
              "[5 rows x 8 columns]"
            ]
          },
          "metadata": {},
          "execution_count": 3
        }
      ],
      "source": [
        "tweets.tail()"
      ]
    },
    {
      "cell_type": "code",
      "execution_count": null,
      "id": "a146ed6e",
      "metadata": {
        "id": "a146ed6e",
        "outputId": "ff1c3eb9-8a7c-4c97-c586-63e7a77caef5",
        "colab": {
          "base_uri": "https://localhost:8080/"
        }
      },
      "outputs": [
        {
          "output_type": "execute_result",
          "data": {
            "text/plain": [
              "(210303, 8)"
            ]
          },
          "metadata": {},
          "execution_count": 4
        }
      ],
      "source": [
        "tweets.shape"
      ]
    },
    {
      "cell_type": "markdown",
      "source": [
        "# Salva o arquivo na pasta especificada"
      ],
      "metadata": {
        "id": "DDTBl63Aaya8"
      },
      "id": "DDTBl63Aaya8"
    },
    {
      "cell_type": "code",
      "execution_count": null,
      "id": "5493dba2",
      "metadata": {
        "id": "5493dba2"
      },
      "outputs": [],
      "source": [
        "### Salva em um arquivo *.csv\n",
        "path = '/content/drive/MyDrive/tweets/' # pasta com o arquivo concatenado\n",
        "tweets.to_csv(path+'tweets_csv_projeto.csv', sep=';', index=False)"
      ]
    },
    {
      "cell_type": "code",
      "execution_count": null,
      "id": "5da4a973",
      "metadata": {
        "id": "5da4a973",
        "colab": {
          "base_uri": "https://localhost:8080/"
        },
        "outputId": "70f91cc0-6ba6-4cc9-c95d-0e6d18c98895"
      },
      "outputs": [
        {
          "output_type": "execute_result",
          "data": {
            "text/plain": [
              "['tweets_csv_projeto (1).gsheet',\n",
              " 'tweets_csv_classified.csv',\n",
              " 'tweets_csv_projeto.csv',\n",
              " 'tweets_csv_projeto.gsheet']"
            ]
          },
          "metadata": {},
          "execution_count": 6
        }
      ],
      "source": [
        "os.listdir(\"/content/drive/MyDrive/tweets\")  ## lista os arquivos da pasta "
      ]
    }
  ],
  "metadata": {
    "kernelspec": {
      "display_name": "Python 3",
      "language": "python",
      "name": "python3"
    },
    "language_info": {
      "codemirror_mode": {
        "name": "ipython",
        "version": 3
      },
      "file_extension": ".py",
      "mimetype": "text/x-python",
      "name": "python",
      "nbconvert_exporter": "python",
      "pygments_lexer": "ipython3",
      "version": "3.8.8"
    },
    "colab": {
      "name": "tcc_fabio_tweets_concat_csv.ipynb",
      "provenance": [],
      "collapsed_sections": []
    }
  },
  "nbformat": 4,
  "nbformat_minor": 5
}
