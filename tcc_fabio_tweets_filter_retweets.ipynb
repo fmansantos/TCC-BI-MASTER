{
  "cells": [
    {
      "cell_type": "markdown",
      "source": [
        "# Trabalho de Conclusão de Curso - Projeto Final\n",
        "\n",
        "# BI MASTER - BUSINESS INTELLIGENCE MASTER - \n",
        "# SISTEMAS INTELIGENTES DE APOIO À DECISÃO EM NEGÓCIOS \n",
        "\n",
        "## Aluno: Fábio Mendonça dos Santos\n",
        "\n",
        "## Matricula: 201.190.260 \n",
        "\n",
        "## Orientador : Professor Leonardo Alfredo Forero Mendonza"
      ],
      "metadata": {
        "id": "6a5xtuZnJHQC"
      },
      "id": "6a5xtuZnJHQC"
    },
    {
      "cell_type": "markdown",
      "source": [
        "# Descrição do NoteBook"
      ],
      "metadata": {
        "id": "8_NOmlaeNCAJ"
      },
      "id": "8_NOmlaeNCAJ"
    },
    {
      "cell_type": "markdown",
      "source": [
        "Este notebook realiza em python utilizando a bibliteca tweepy \n",
        "\n",
        "realiza a captura de tweets no idioma inglês nos EUA e com filtro para não capturar retweets.\n",
        "\n",
        "Os Tweets foram capturados diariamente, totalizando 15.000 por dia.\n",
        "\n",
        "Foi utizada a versão 3.10 da API, devido a ser a mais estável."
      ],
      "metadata": {
        "id": "d-HDFJi7LCQT"
      },
      "id": "d-HDFJi7LCQT"
    },
    {
      "cell_type": "code",
      "execution_count": null,
      "id": "2b06b01f",
      "metadata": {
        "colab": {
          "base_uri": "https://localhost:8080/",
          "height": 36
        },
        "id": "2b06b01f",
        "outputId": "69d93b7a-f8ef-495b-a6c9-c26c6c96be25"
      },
      "outputs": [
        {
          "output_type": "execute_result",
          "data": {
            "application/vnd.google.colaboratory.intrinsic+json": {
              "type": "string"
            },
            "text/plain": [
              "'3.10.0'"
            ]
          },
          "metadata": {},
          "execution_count": 1
        }
      ],
      "source": [
        "# Instala biblioteca\n",
        "# !pip install tweepy\n",
        "### https://stackoverflow.com/questions/38872195/tweepy-exclude-retweets\n",
        "import os\n",
        "import tweepy as tw\n",
        "import pandas as pd\n",
        "import warnings\n",
        "warnings.filterwarnings(\"ignore\")\n",
        "\n",
        "tw.__version__"
      ]
    },
    {
      "cell_type": "markdown",
      "source": [
        "# Mapeia o drive para ao final salvar o arquivo com os tweets"
      ],
      "metadata": {
        "id": "lOlZLVPyPViX"
      },
      "id": "lOlZLVPyPViX"
    },
    {
      "cell_type": "code",
      "execution_count": null,
      "id": "8609b22b",
      "metadata": {
        "id": "8609b22b"
      },
      "outputs": [],
      "source": [
        "\n",
        "import os\n"
      ]
    },
    {
      "cell_type": "code",
      "source": [
        "from google.colab import drive\n",
        "drive.mount('/content/drive')"
      ],
      "metadata": {
        "colab": {
          "base_uri": "https://localhost:8080/"
        },
        "id": "uDc_vApQMVAO",
        "outputId": "b9a47268-65af-4cd4-a925-4c668356c902"
      },
      "id": "uDc_vApQMVAO",
      "execution_count": null,
      "outputs": [
        {
          "output_type": "stream",
          "name": "stdout",
          "text": [
            "Mounted at /content/drive\n"
          ]
        }
      ]
    },
    {
      "cell_type": "code",
      "execution_count": null,
      "id": "512b23ba",
      "metadata": {
        "id": "512b23ba"
      },
      "outputs": [],
      "source": [
        "# Twitter API\n",
        "API_KEY = 'L0ERPfTcb1dApshzNThtvXsV0'\n",
        "SECRET_KEY = 'turPfUw6vKOJBagQKv3vJ6oDJDy6NQzrBWa8zE3pKM5WEigYbo'\n",
        "BEARER_TOKEN = 'AAAAAAAAAAAAAAAAAAAAAFJaRwEAAAAAsgUM9skb052KSnVAI13pKfpq128%3D3Y7rVvkOVinjgO5HN3Wvt0o71ijK3qFZwb8quddhiVvpI69fXK'\n",
        "ACCESS_TOKEN = '1341064657394675714-Bbu7xOG6HPJEyGkrbjXUxVnVQChwLm'\n",
        "SECRET_TOKEN = '5CGPMtqwPVnt7Nx6iPHEcC1Jmyy9wV9FP98KDKYxHt0tC'\n",
        "\n",
        "auth = tw.OAuthHandler(API_KEY, SECRET_KEY)\n",
        "auth.set_access_token(ACCESS_TOKEN, SECRET_TOKEN)\n",
        "api = tw.API(auth\n",
        "             , wait_on_rate_limit=True\n",
        "             , wait_on_rate_limit_notify=True\n",
        "            )"
      ]
    },
    {
      "cell_type": "code",
      "execution_count": null,
      "id": "23b2fb9e",
      "metadata": {
        "colab": {
          "base_uri": "https://localhost:8080/",
          "height": 36
        },
        "id": "23b2fb9e",
        "outputId": "46716a14-d45f-4ea2-f69b-f95327a1ade2"
      },
      "outputs": [
        {
          "output_type": "execute_result",
          "data": {
            "application/vnd.google.colaboratory.intrinsic+json": {
              "type": "string"
            },
            "text/plain": [
              "'2021-12-22'"
            ]
          },
          "metadata": {},
          "execution_count": 5
        }
      ],
      "source": [
        "from datetime import date, timedelta\n",
        "\n",
        "delta = timedelta(days=1)        # Define o intervalo de tempo para busca de tweets\n",
        "start_date = date.today()        \n",
        "start_date -= delta\n",
        "\n",
        "search_term ='* -filter:retweets' ## filtra para evitar os reteews\n",
        "limit = 15000\n",
        "\n",
        "searchCountry = \"USA\" ## seleciona o pais \n",
        "\n",
        "places = api.geo_search(query=searchCountry, granularity=\"country\") ## define que a granularidade é o pais\n",
        "place_id = places[0].id\n",
        "\n",
        "# define intervalo de datas   \n",
        "date_string = start_date.strftime(\"%Y-%m-%d\")\n",
        "date_string"
      ]
    },
    {
      "cell_type": "code",
      "execution_count": null,
      "id": "c9ee2fc9",
      "metadata": {
        "id": "c9ee2fc9"
      },
      "outputs": [],
      "source": [
        "# Inicializa dataframe vazio para salvar todos os tweets\n",
        "col_names =  [\"created_date\", \"tweet\", \"username\", \"retweet\", \"nlikes\", \"nreplies\", \"nretweets\", \"near\"]\n",
        "tweets_dataframe  = pd.DataFrame(columns = col_names)"
      ]
    },
    {
      "cell_type": "markdown",
      "source": [
        "# Exibe as colunas do DataFrame"
      ],
      "metadata": {
        "id": "w0Ku6ww2OMhD"
      },
      "id": "w0Ku6ww2OMhD"
    },
    {
      "cell_type": "code",
      "execution_count": null,
      "id": "509eecee",
      "metadata": {
        "colab": {
          "base_uri": "https://localhost:8080/",
          "height": 49
        },
        "id": "509eecee",
        "outputId": "f88c5a16-1857-4865-f994-8a43e652768a"
      },
      "outputs": [
        {
          "output_type": "execute_result",
          "data": {
            "text/html": [
              "\n",
              "  <div id=\"df-58440615-aaeb-49f3-8171-5ee4ac6fc477\">\n",
              "    <div class=\"colab-df-container\">\n",
              "      <div>\n",
              "<style scoped>\n",
              "    .dataframe tbody tr th:only-of-type {\n",
              "        vertical-align: middle;\n",
              "    }\n",
              "\n",
              "    .dataframe tbody tr th {\n",
              "        vertical-align: top;\n",
              "    }\n",
              "\n",
              "    .dataframe thead th {\n",
              "        text-align: right;\n",
              "    }\n",
              "</style>\n",
              "<table border=\"1\" class=\"dataframe\">\n",
              "  <thead>\n",
              "    <tr style=\"text-align: right;\">\n",
              "      <th></th>\n",
              "      <th>created_date</th>\n",
              "      <th>tweet</th>\n",
              "      <th>username</th>\n",
              "      <th>retweet</th>\n",
              "      <th>nlikes</th>\n",
              "      <th>nreplies</th>\n",
              "      <th>nretweets</th>\n",
              "      <th>near</th>\n",
              "    </tr>\n",
              "  </thead>\n",
              "  <tbody>\n",
              "  </tbody>\n",
              "</table>\n",
              "</div>\n",
              "      <button class=\"colab-df-convert\" onclick=\"convertToInteractive('df-58440615-aaeb-49f3-8171-5ee4ac6fc477')\"\n",
              "              title=\"Convert this dataframe to an interactive table.\"\n",
              "              style=\"display:none;\">\n",
              "        \n",
              "  <svg xmlns=\"http://www.w3.org/2000/svg\" height=\"24px\"viewBox=\"0 0 24 24\"\n",
              "       width=\"24px\">\n",
              "    <path d=\"M0 0h24v24H0V0z\" fill=\"none\"/>\n",
              "    <path d=\"M18.56 5.44l.94 2.06.94-2.06 2.06-.94-2.06-.94-.94-2.06-.94 2.06-2.06.94zm-11 1L8.5 8.5l.94-2.06 2.06-.94-2.06-.94L8.5 2.5l-.94 2.06-2.06.94zm10 10l.94 2.06.94-2.06 2.06-.94-2.06-.94-.94-2.06-.94 2.06-2.06.94z\"/><path d=\"M17.41 7.96l-1.37-1.37c-.4-.4-.92-.59-1.43-.59-.52 0-1.04.2-1.43.59L10.3 9.45l-7.72 7.72c-.78.78-.78 2.05 0 2.83L4 21.41c.39.39.9.59 1.41.59.51 0 1.02-.2 1.41-.59l7.78-7.78 2.81-2.81c.8-.78.8-2.07 0-2.86zM5.41 20L4 18.59l7.72-7.72 1.47 1.35L5.41 20z\"/>\n",
              "  </svg>\n",
              "      </button>\n",
              "      \n",
              "  <style>\n",
              "    .colab-df-container {\n",
              "      display:flex;\n",
              "      flex-wrap:wrap;\n",
              "      gap: 12px;\n",
              "    }\n",
              "\n",
              "    .colab-df-convert {\n",
              "      background-color: #E8F0FE;\n",
              "      border: none;\n",
              "      border-radius: 50%;\n",
              "      cursor: pointer;\n",
              "      display: none;\n",
              "      fill: #1967D2;\n",
              "      height: 32px;\n",
              "      padding: 0 0 0 0;\n",
              "      width: 32px;\n",
              "    }\n",
              "\n",
              "    .colab-df-convert:hover {\n",
              "      background-color: #E2EBFA;\n",
              "      box-shadow: 0px 1px 2px rgba(60, 64, 67, 0.3), 0px 1px 3px 1px rgba(60, 64, 67, 0.15);\n",
              "      fill: #174EA6;\n",
              "    }\n",
              "\n",
              "    [theme=dark] .colab-df-convert {\n",
              "      background-color: #3B4455;\n",
              "      fill: #D2E3FC;\n",
              "    }\n",
              "\n",
              "    [theme=dark] .colab-df-convert:hover {\n",
              "      background-color: #434B5C;\n",
              "      box-shadow: 0px 1px 3px 1px rgba(0, 0, 0, 0.15);\n",
              "      filter: drop-shadow(0px 1px 2px rgba(0, 0, 0, 0.3));\n",
              "      fill: #FFFFFF;\n",
              "    }\n",
              "  </style>\n",
              "\n",
              "      <script>\n",
              "        const buttonEl =\n",
              "          document.querySelector('#df-58440615-aaeb-49f3-8171-5ee4ac6fc477 button.colab-df-convert');\n",
              "        buttonEl.style.display =\n",
              "          google.colab.kernel.accessAllowed ? 'block' : 'none';\n",
              "\n",
              "        async function convertToInteractive(key) {\n",
              "          const element = document.querySelector('#df-58440615-aaeb-49f3-8171-5ee4ac6fc477');\n",
              "          const dataTable =\n",
              "            await google.colab.kernel.invokeFunction('convertToInteractive',\n",
              "                                                     [key], {});\n",
              "          if (!dataTable) return;\n",
              "\n",
              "          const docLinkHtml = 'Like what you see? Visit the ' +\n",
              "            '<a target=\"_blank\" href=https://colab.research.google.com/notebooks/data_table.ipynb>data table notebook</a>'\n",
              "            + ' to learn more about interactive tables.';\n",
              "          element.innerHTML = '';\n",
              "          dataTable['output_type'] = 'display_data';\n",
              "          await google.colab.output.renderOutput(dataTable, element);\n",
              "          const docLink = document.createElement('div');\n",
              "          docLink.innerHTML = docLinkHtml;\n",
              "          element.appendChild(docLink);\n",
              "        }\n",
              "      </script>\n",
              "    </div>\n",
              "  </div>\n",
              "  "
            ],
            "text/plain": [
              "Empty DataFrame\n",
              "Columns: [created_date, tweet, username, retweet, nlikes, nreplies, nretweets, near]\n",
              "Index: []"
            ]
          },
          "metadata": {},
          "execution_count": 7
        }
      ],
      "source": [
        "tweets_dataframe"
      ]
    },
    {
      "cell_type": "markdown",
      "source": [
        "# Executa a extração dos tweets utilizando os filtros"
      ],
      "metadata": {
        "id": "lvCOsYttOWNK"
      },
      "id": "lvCOsYttOWNK"
    },
    {
      "cell_type": "code",
      "execution_count": null,
      "id": "868bbb5f",
      "metadata": {
        "colab": {
          "base_uri": "https://localhost:8080/"
        },
        "id": "868bbb5f",
        "outputId": "0341ec72-0809-445f-f36d-362f7e4cbff2"
      },
      "outputs": [
        {
          "output_type": "stream",
          "name": "stderr",
          "text": [
            "Rate limit reached. Sleeping for: 862\n",
            "Rate limit reached. Sleeping for: 861\n",
            "Rate limit reached. Sleeping for: 861\n",
            "Rate limit reached. Sleeping for: 862\n",
            "Rate limit reached. Sleeping for: 862\n"
          ]
        }
      ],
      "source": [
        "ids = set()\n",
        "tweet_info = []\n",
        "\n",
        "for tweet in tw.Cursor(api.search, q= (search_term) and (\"place:%s\" % place_id), \n",
        "                         lang='en', since=start_date,location=\"USA\").items(limit):\n",
        "    \n",
        "    if ((not tweet.retweeted) and ('RT @' not in tweet.text)) :\n",
        "              \n",
        "        tweet_info.append([tweet.created_at, tweet.text, \n",
        "                           tweet.user.screen_name, tweet.retweeted, \n",
        "                           tweet.favorite_count, tweet.in_reply_to_status_id,\n",
        "                           tweet.retweet_count, tweet.user.location])\n",
        "        \n",
        "    \n"
      ]
    },
    {
      "cell_type": "markdown",
      "source": [
        "# Armazena os tweets no dataframe"
      ],
      "metadata": {
        "id": "K879Xo9iOkkZ"
      },
      "id": "K879Xo9iOkkZ"
    },
    {
      "cell_type": "code",
      "execution_count": null,
      "id": "eda1aeff",
      "metadata": {
        "colab": {
          "base_uri": "https://localhost:8080/",
          "height": 206
        },
        "id": "eda1aeff",
        "outputId": "545cb762-716c-48f4-9205-bbd70887aed2"
      },
      "outputs": [
        {
          "output_type": "execute_result",
          "data": {
            "text/html": [
              "\n",
              "  <div id=\"df-b9d735c0-7f2a-4b06-85d9-9b8222a709ee\">\n",
              "    <div class=\"colab-df-container\">\n",
              "      <div>\n",
              "<style scoped>\n",
              "    .dataframe tbody tr th:only-of-type {\n",
              "        vertical-align: middle;\n",
              "    }\n",
              "\n",
              "    .dataframe tbody tr th {\n",
              "        vertical-align: top;\n",
              "    }\n",
              "\n",
              "    .dataframe thead th {\n",
              "        text-align: right;\n",
              "    }\n",
              "</style>\n",
              "<table border=\"1\" class=\"dataframe\">\n",
              "  <thead>\n",
              "    <tr style=\"text-align: right;\">\n",
              "      <th></th>\n",
              "      <th>created_date</th>\n",
              "      <th>tweet</th>\n",
              "      <th>username</th>\n",
              "      <th>retweet</th>\n",
              "      <th>nlikes</th>\n",
              "      <th>nreplies</th>\n",
              "      <th>nretweets</th>\n",
              "      <th>near</th>\n",
              "    </tr>\n",
              "  </thead>\n",
              "  <tbody>\n",
              "    <tr>\n",
              "      <th>0</th>\n",
              "      <td>2021-12-23 12:03:16</td>\n",
              "      <td>@ElenaTrueba100 @sujo212 @Becky080711 @FingalN...</td>\n",
              "      <td>mojicapr</td>\n",
              "      <td>False</td>\n",
              "      <td>0</td>\n",
              "      <td>1.473985e+18</td>\n",
              "      <td>0</td>\n",
              "      <td>Coral Springs, FL</td>\n",
              "    </tr>\n",
              "    <tr>\n",
              "      <th>1</th>\n",
              "      <td>2021-12-23 12:03:15</td>\n",
              "      <td>I'm actually going to a Texans game on Sunday....</td>\n",
              "      <td>heymiker</td>\n",
              "      <td>False</td>\n",
              "      <td>0</td>\n",
              "      <td>NaN</td>\n",
              "      <td>0</td>\n",
              "      <td>Texas Forever</td>\n",
              "    </tr>\n",
              "    <tr>\n",
              "      <th>2</th>\n",
              "      <td>2021-12-23 12:03:15</td>\n",
              "      <td>@SmallBizPhilly Love the NE but unfortunately ...</td>\n",
              "      <td>ConnorPatrick</td>\n",
              "      <td>False</td>\n",
              "      <td>0</td>\n",
              "      <td>1.473984e+18</td>\n",
              "      <td>0</td>\n",
              "      <td>Philadelphia, Pennsylvania</td>\n",
              "    </tr>\n",
              "    <tr>\n",
              "      <th>3</th>\n",
              "      <td>2021-12-23 12:03:15</td>\n",
              "      <td>bye not me being awake all night</td>\n",
              "      <td>spicycor3</td>\n",
              "      <td>False</td>\n",
              "      <td>0</td>\n",
              "      <td>NaN</td>\n",
              "      <td>0</td>\n",
              "      <td>Austin, TX (She/Her)</td>\n",
              "    </tr>\n",
              "    <tr>\n",
              "      <th>4</th>\n",
              "      <td>2021-12-23 12:03:14</td>\n",
              "      <td>@jtstokke Exactly, Ur Absolutely Awesome for N...</td>\n",
              "      <td>jablowmi1407</td>\n",
              "      <td>False</td>\n",
              "      <td>0</td>\n",
              "      <td>1.473974e+18</td>\n",
              "      <td>0</td>\n",
              "      <td>Taylor, MI</td>\n",
              "    </tr>\n",
              "  </tbody>\n",
              "</table>\n",
              "</div>\n",
              "      <button class=\"colab-df-convert\" onclick=\"convertToInteractive('df-b9d735c0-7f2a-4b06-85d9-9b8222a709ee')\"\n",
              "              title=\"Convert this dataframe to an interactive table.\"\n",
              "              style=\"display:none;\">\n",
              "        \n",
              "  <svg xmlns=\"http://www.w3.org/2000/svg\" height=\"24px\"viewBox=\"0 0 24 24\"\n",
              "       width=\"24px\">\n",
              "    <path d=\"M0 0h24v24H0V0z\" fill=\"none\"/>\n",
              "    <path d=\"M18.56 5.44l.94 2.06.94-2.06 2.06-.94-2.06-.94-.94-2.06-.94 2.06-2.06.94zm-11 1L8.5 8.5l.94-2.06 2.06-.94-2.06-.94L8.5 2.5l-.94 2.06-2.06.94zm10 10l.94 2.06.94-2.06 2.06-.94-2.06-.94-.94-2.06-.94 2.06-2.06.94z\"/><path d=\"M17.41 7.96l-1.37-1.37c-.4-.4-.92-.59-1.43-.59-.52 0-1.04.2-1.43.59L10.3 9.45l-7.72 7.72c-.78.78-.78 2.05 0 2.83L4 21.41c.39.39.9.59 1.41.59.51 0 1.02-.2 1.41-.59l7.78-7.78 2.81-2.81c.8-.78.8-2.07 0-2.86zM5.41 20L4 18.59l7.72-7.72 1.47 1.35L5.41 20z\"/>\n",
              "  </svg>\n",
              "      </button>\n",
              "      \n",
              "  <style>\n",
              "    .colab-df-container {\n",
              "      display:flex;\n",
              "      flex-wrap:wrap;\n",
              "      gap: 12px;\n",
              "    }\n",
              "\n",
              "    .colab-df-convert {\n",
              "      background-color: #E8F0FE;\n",
              "      border: none;\n",
              "      border-radius: 50%;\n",
              "      cursor: pointer;\n",
              "      display: none;\n",
              "      fill: #1967D2;\n",
              "      height: 32px;\n",
              "      padding: 0 0 0 0;\n",
              "      width: 32px;\n",
              "    }\n",
              "\n",
              "    .colab-df-convert:hover {\n",
              "      background-color: #E2EBFA;\n",
              "      box-shadow: 0px 1px 2px rgba(60, 64, 67, 0.3), 0px 1px 3px 1px rgba(60, 64, 67, 0.15);\n",
              "      fill: #174EA6;\n",
              "    }\n",
              "\n",
              "    [theme=dark] .colab-df-convert {\n",
              "      background-color: #3B4455;\n",
              "      fill: #D2E3FC;\n",
              "    }\n",
              "\n",
              "    [theme=dark] .colab-df-convert:hover {\n",
              "      background-color: #434B5C;\n",
              "      box-shadow: 0px 1px 3px 1px rgba(0, 0, 0, 0.15);\n",
              "      filter: drop-shadow(0px 1px 2px rgba(0, 0, 0, 0.3));\n",
              "      fill: #FFFFFF;\n",
              "    }\n",
              "  </style>\n",
              "\n",
              "      <script>\n",
              "        const buttonEl =\n",
              "          document.querySelector('#df-b9d735c0-7f2a-4b06-85d9-9b8222a709ee button.colab-df-convert');\n",
              "        buttonEl.style.display =\n",
              "          google.colab.kernel.accessAllowed ? 'block' : 'none';\n",
              "\n",
              "        async function convertToInteractive(key) {\n",
              "          const element = document.querySelector('#df-b9d735c0-7f2a-4b06-85d9-9b8222a709ee');\n",
              "          const dataTable =\n",
              "            await google.colab.kernel.invokeFunction('convertToInteractive',\n",
              "                                                     [key], {});\n",
              "          if (!dataTable) return;\n",
              "\n",
              "          const docLinkHtml = 'Like what you see? Visit the ' +\n",
              "            '<a target=\"_blank\" href=https://colab.research.google.com/notebooks/data_table.ipynb>data table notebook</a>'\n",
              "            + ' to learn more about interactive tables.';\n",
              "          element.innerHTML = '';\n",
              "          dataTable['output_type'] = 'display_data';\n",
              "          await google.colab.output.renderOutput(dataTable, element);\n",
              "          const docLink = document.createElement('div');\n",
              "          docLink.innerHTML = docLinkHtml;\n",
              "          element.appendChild(docLink);\n",
              "        }\n",
              "      </script>\n",
              "    </div>\n",
              "  </div>\n",
              "  "
            ],
            "text/plain": [
              "         created_date  ...                        near\n",
              "0 2021-12-23 12:03:16  ...           Coral Springs, FL\n",
              "1 2021-12-23 12:03:15  ...               Texas Forever\n",
              "2 2021-12-23 12:03:15  ...  Philadelphia, Pennsylvania\n",
              "3 2021-12-23 12:03:15  ...        Austin, TX (She/Her)\n",
              "4 2021-12-23 12:03:14  ...                  Taylor, MI\n",
              "\n",
              "[5 rows x 8 columns]"
            ]
          },
          "metadata": {},
          "execution_count": 9
        }
      ],
      "source": [
        "df = pd.DataFrame(tweet_info,columns=col_names)\n",
        "\n",
        "df.head()"
      ]
    },
    {
      "cell_type": "markdown",
      "source": [
        "# Exibe o formato e quantidade de colunas do dataframe`"
      ],
      "metadata": {
        "id": "clVTZFg1O5jw"
      },
      "id": "clVTZFg1O5jw"
    },
    {
      "cell_type": "code",
      "execution_count": null,
      "id": "89ba4860",
      "metadata": {
        "colab": {
          "base_uri": "https://localhost:8080/"
        },
        "id": "89ba4860",
        "outputId": "287ee5d7-f0f7-4123-a763-30d049164ab7"
      },
      "outputs": [
        {
          "output_type": "execute_result",
          "data": {
            "text/plain": [
              "(14998, 8)"
            ]
          },
          "metadata": {},
          "execution_count": 10
        }
      ],
      "source": [
        "df.shape"
      ]
    },
    {
      "cell_type": "markdown",
      "source": [
        "# Grava o dataframe em um arquivo *.csv"
      ],
      "metadata": {
        "id": "XqMOMB2hPBx_"
      },
      "id": "XqMOMB2hPBx_"
    },
    {
      "cell_type": "code",
      "execution_count": null,
      "id": "222f3da1",
      "metadata": {
        "id": "222f3da1"
      },
      "outputs": [],
      "source": [
        "path = '/content/drive/MyDrive/datasets/'\n",
        "df.to_csv(path+'tweets_csv_23122021.csv', sep=';', index=False)\n"
      ]
    },
    {
      "cell_type": "code",
      "execution_count": null,
      "id": "fe0c3f62",
      "metadata": {
        "colab": {
          "base_uri": "https://localhost:8080/",
          "height": 36
        },
        "id": "fe0c3f62",
        "outputId": "8b5b9b1b-31d8-4d98-e400-f2ffc440c434"
      },
      "outputs": [
        {
          "output_type": "execute_result",
          "data": {
            "application/vnd.google.colaboratory.intrinsic+json": {
              "type": "string"
            },
            "text/plain": [
              "'@ElenaTrueba100 @sujo212 @Becky080711 @FingalNancy @soosee @JasmineeCena32 @SheaLola1 @jkranites @LakersCanes305… https://t.co/GlCWVUmw35'"
            ]
          },
          "metadata": {},
          "execution_count": 12
        }
      ],
      "source": [
        "df.tweet[0]"
      ]
    },
    {
      "cell_type": "code",
      "execution_count": null,
      "id": "cc2a847d",
      "metadata": {
        "colab": {
          "base_uri": "https://localhost:8080/",
          "height": 36
        },
        "id": "cc2a847d",
        "outputId": "88712fc2-31fb-4519-c1cb-f1b686148602"
      },
      "outputs": [
        {
          "output_type": "execute_result",
          "data": {
            "application/vnd.google.colaboratory.intrinsic+json": {
              "type": "string"
            },
            "text/plain": [
              "'@SmallBizPhilly Love the NE but unfortunately might as well be a suburb in its relation to center city'"
            ]
          },
          "metadata": {},
          "execution_count": 13
        }
      ],
      "source": [
        "df.tweet[2]"
      ]
    },
    {
      "cell_type": "code",
      "execution_count": null,
      "id": "0a997844",
      "metadata": {
        "colab": {
          "base_uri": "https://localhost:8080/",
          "height": 36
        },
        "id": "0a997844",
        "outputId": "057b3ac5-9d2b-4144-bb27-223d3bb07062"
      },
      "outputs": [
        {
          "output_type": "execute_result",
          "data": {
            "application/vnd.google.colaboratory.intrinsic+json": {
              "type": "string"
            },
            "text/plain": [
              "'bye not me being awake all night'"
            ]
          },
          "metadata": {},
          "execution_count": 14
        }
      ],
      "source": [
        "df.tweet[3]"
      ]
    },
    {
      "cell_type": "code",
      "execution_count": null,
      "id": "e93882b7",
      "metadata": {
        "id": "e93882b7"
      },
      "outputs": [],
      "source": [
        ""
      ]
    }
  ],
  "metadata": {
    "kernelspec": {
      "display_name": "Python 3",
      "language": "python",
      "name": "python3"
    },
    "language_info": {
      "codemirror_mode": {
        "name": "ipython",
        "version": 3
      },
      "file_extension": ".py",
      "mimetype": "text/x-python",
      "name": "python",
      "nbconvert_exporter": "python",
      "pygments_lexer": "ipython3",
      "version": "3.8.8"
    },
    "colab": {
      "name": "tcc_fabio_tweets_filter_retweets.ipynb",
      "provenance": []
    }
  },
  "nbformat": 4,
  "nbformat_minor": 5
}